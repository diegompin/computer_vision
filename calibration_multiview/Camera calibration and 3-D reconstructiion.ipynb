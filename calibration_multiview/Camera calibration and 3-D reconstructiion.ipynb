{
 "cells": [
  {
   "cell_type": "markdown",
   "metadata": {},
   "source": [
    "# Advanced Computer Vision - Diego Pinheiro\n",
    "## Assignment 3 - Camera calibration and 3-D reconstructiion\n",
    "### Contents\n",
    "\n",
    "The Equations and Algorithms were adapted from Simon Prince's book and algorithms [1]."
   ]
  },
  {
   "cell_type": "markdown",
   "metadata": {},
   "source": [
    "## Used packages "
   ]
  },
  {
   "cell_type": "code",
   "execution_count": 1,
   "metadata": {
    "collapsed": false
   },
   "outputs": [],
   "source": [
    "from PIL import Image\n",
    "from pylab import ginput\n",
    "import scipy.misc as misc\n",
    "import scipy.ndimage as ndimage\n",
    "import scipy.special as sp\n",
    "import scipy.optimize as op\n",
    "import scipy.stats as stats\n",
    "from matplotlib.patches import Rectangle\n",
    "import numpy as np\n",
    "import numpy.linalg as la\n",
    "import matplotlib\n",
    "import matplotlib.pyplot as plt\n",
    "from matplotlib import cm\n",
    "%matplotlib inline\n",
    "matplotlib.rcParams['figure.figsize'] = 20, 10\n",
    "np.set_printoptions(precision=4, suppress=True)"
   ]
  },
  {
   "cell_type": "markdown",
   "metadata": {},
   "source": [
    "## Part 1: Estimate the camera motion"
   ]
  },
  {
   "cell_type": "markdown",
   "metadata": {},
   "source": [
    "The solution to this problem is to minimize:\n",
    "\n",
    "\\begin{equation}\n",
    "\\mathbf{\\hat{\\Omega}}, \\mathbf{\\hat{\\tau}} = \\operatorname*{arg\\,min}_{\\mathbf{\\Omega}, \\mathbf{\\tau}} \\Bigg[ \\sum_{i=1}^{I} (\\mathbf{x}_i - pinhole[w_i, \\Lambda, \\Omega, \\tau])^T (\\mathbf{x}_i - pinhole[w_i, \\Lambda, \\Omega, \\tau]) \\Bigg]\n",
    "\\end{equation}"
   ]
  },
  {
   "cell_type": "code",
   "execution_count": 2,
   "metadata": {
    "collapsed": true
   },
   "outputs": [],
   "source": [
    "def pinhole(wi, camera, rotation, translation):\n",
    "    return np.dot(camera, np.dot(np.c_[rotation, translation], wi))"
   ]
  },
  {
   "cell_type": "code",
   "execution_count": 3,
   "metadata": {
    "collapsed": true
   },
   "outputs": [],
   "source": [
    "def least_squares(X, W, Phi):\n",
    "    Phi = Phi.reshape(3,4)\n",
    "    rotation = Phi[:,0:3]\n",
    "    translation = Phi[:,3:4]\n",
    "    L = 0\n",
    "    for i in range(I):\n",
    "        xi = X[i]\n",
    "        wi = W[i]\n",
    "        first_term = (xi - pinhole(wi, camera, rotation, translation)).T\n",
    "        second_term = (xi - pinhole(wi, camera, rotation, translation))\n",
    "        L += np.dot(first_term, second_term)\n",
    "    return L"
   ]
  },
  {
   "cell_type": "markdown",
   "metadata": {},
   "source": [
    "### Load world and images data points"
   ]
  },
  {
   "cell_type": "code",
   "execution_count": 4,
   "metadata": {
    "collapsed": false
   },
   "outputs": [],
   "source": [
    "W = None\n",
    "with open('datapoints/uvw.txt') as f:\n",
    "    W = f.readlines()\n",
    "    W = np.array([np.array(p.split('\\t')).reshape(3,1) for p in W],dtype=np.float64)\n",
    "    \n",
    "X = None\n",
    "with open('datapoints/xy.txt') as f:\n",
    "    X = f.readlines()\n",
    "    X = np.array([np.array(p.split('\\t')).reshape(2,1) for p in X], dtype=np.float64)\n",
    "    \n",
    "I = len(W)"
   ]
  },
  {
   "cell_type": "code",
   "execution_count": 5,
   "metadata": {
    "collapsed": false
   },
   "outputs": [],
   "source": [
    "W_tilde = np.array([np.vstack([wi, 1]) for wi in W])\n",
    "X_tilde = np.array([np.vstack([xi, 1]) for xi in X])\n",
    "X_prime = np.zeros(shape=X_tilde.shape)"
   ]
  },
  {
   "cell_type": "markdown",
   "metadata": {},
   "source": [
    "### Setting the know camera matrix $\\Lambda$"
   ]
  },
  {
   "cell_type": "code",
   "execution_count": 6,
   "metadata": {
    "collapsed": false
   },
   "outputs": [
    {
     "name": "stdout",
     "output_type": "stream",
     "text": [
      "[[ 200.    0.  256.]\n",
      " [   0.  200.  256.]\n",
      " [   0.    0.    1.]]\n"
     ]
    }
   ],
   "source": [
    "camera = np.array([[200, 0, 256], [0, 200, 256], [0, 0, 1]], dtype=np.float64)\n",
    "print(camera)"
   ]
  },
  {
   "cell_type": "markdown",
   "metadata": {},
   "source": [
    "### Calculationg the inverse of the camera matrix $\\Lambda^{-1}$"
   ]
  },
  {
   "cell_type": "code",
   "execution_count": 7,
   "metadata": {
    "collapsed": false
   },
   "outputs": [
    {
     "name": "stdout",
     "output_type": "stream",
     "text": [
      "[[ 0.005  0.    -1.28 ]\n",
      " [ 0.     0.005 -1.28 ]\n",
      " [ 0.     0.     1.   ]]\n"
     ]
    }
   ],
   "source": [
    "camera_inv = np.linalg.inv(camera)\n",
    "print(camera_inv)"
   ]
  },
  {
   "cell_type": "code",
   "execution_count": 8,
   "metadata": {
    "collapsed": false
   },
   "outputs": [],
   "source": [
    "A = np.zeros((2*I,12))\n",
    "for i in range(I):\n",
    "    #Convert to normalized camera coordinates\n",
    "    wi = W_tilde[i]\n",
    "    xi = X_tilde[i]\n",
    "    xip = np.dot(camera_inv, xi)\n",
    "    X_prime[i] = xip\n",
    "    A[2*i] = [wi[0], wi[1], wi[2], 1, 0, 0, 0, 0, \n",
    "              -wi[0]*xip[0], -wi[1]*xip[0], -wi[2]*xip[0], -xip[0]]\n",
    "    A[2*i + 1] = [0, 0, 0, 0, wi[0], wi[1], wi[2], 1, \n",
    "                  -wi[0]*xip[1], -wi[1]*xip[1], -wi[2]*xip[1], -xip[1]]"
   ]
  },
  {
   "cell_type": "markdown",
   "metadata": {},
   "source": [
    "### Solve with SVD"
   ]
  },
  {
   "cell_type": "code",
   "execution_count": 9,
   "metadata": {
    "collapsed": false
   },
   "outputs": [],
   "source": [
    "U,s,V = np.linalg.svd(A, full_matrices=True)\n",
    "b = V.T[:,11]"
   ]
  },
  {
   "cell_type": "markdown",
   "metadata": {},
   "source": [
    "Last column of $\\mathbf{V}$ ($\\mathbf{b} = \\mathbf{v}_{12}$)"
   ]
  },
  {
   "cell_type": "code",
   "execution_count": 10,
   "metadata": {
    "collapsed": false
   },
   "outputs": [
    {
     "name": "stdout",
     "output_type": "stream",
     "text": [
      "[-0.004  -0.     -0.0001  0.2623  0.     -0.0041 -0.      0.     -0.001   0.\n",
      "  0.0004 -0.965 ]\n"
     ]
    }
   ],
   "source": [
    "print(b)"
   ]
  },
  {
   "cell_type": "markdown",
   "metadata": {},
   "source": [
    "### Extract the first estimate of Rotation Matrix $\\Omega$ up to unknown scale using linear method"
   ]
  },
  {
   "cell_type": "code",
   "execution_count": 11,
   "metadata": {
    "collapsed": false
   },
   "outputs": [
    {
     "name": "stdout",
     "output_type": "stream",
     "text": [
      "[[-0.004  -0.     -0.0001]\n",
      " [ 0.     -0.0041 -0.    ]\n",
      " [-0.001   0.      0.0004]]\n"
     ]
    }
   ],
   "source": [
    "rotation = np.array([b[0], b[1], b[2], b[4], b[5], b[6], b[8], b[9], b[10]])\n",
    "rotation = rotation.reshape(3,3)\n",
    "print(rotation)"
   ]
  },
  {
   "cell_type": "markdown",
   "metadata": {},
   "source": [
    "###  Extract the first estimate of Translation Matrix $\\tau$ up to unknown scale using linear method"
   ]
  },
  {
   "cell_type": "code",
   "execution_count": 12,
   "metadata": {
    "collapsed": false
   },
   "outputs": [
    {
     "name": "stdout",
     "output_type": "stream",
     "text": [
      "[[ 0.2623]\n",
      " [ 0.    ]\n",
      " [-0.965 ]]\n"
     ]
    }
   ],
   "source": [
    "translation = np.array([b[3], b[7], b[11]])\n",
    "translation = translation.reshape(3,1)\n",
    "print(translation)"
   ]
  },
  {
   "cell_type": "markdown",
   "metadata": {},
   "source": [
    "### Find corrected Rotation Matrix $\\hat{\\Omega}$ using Procrustes method (still linear solution) "
   ]
  },
  {
   "cell_type": "code",
   "execution_count": 13,
   "metadata": {
    "collapsed": false
   },
   "outputs": [
    {
     "name": "stdout",
     "output_type": "stream",
     "text": [
      "[[-0.9685 -0.     -0.2491]\n",
      " [ 0.     -1.      0.    ]\n",
      " [-0.2491  0.      0.9685]]\n"
     ]
    }
   ],
   "source": [
    "U,s,V = np.linalg.svd(rotation, full_matrices=True)\n",
    "rotation_hat = np.dot(U, V)\n",
    "print(rotation_hat)"
   ]
  },
  {
   "cell_type": "markdown",
   "metadata": {},
   "source": [
    "### Re-scale the Translation Matrix $\\hat{\\tau}$ using the estimated scaling factor"
   ]
  },
  {
   "cell_type": "code",
   "execution_count": 14,
   "metadata": {
    "collapsed": false
   },
   "outputs": [
    {
     "name": "stdout",
     "output_type": "stream",
     "text": [
      "scaling factor: 692.835549408\n",
      "[[ 181.7222]\n",
      " [   0.    ]\n",
      " [-668.567 ]]\n"
     ]
    }
   ],
   "source": [
    "scaling_factor = 0\n",
    "for i in range(3):\n",
    "    for j in range(3):\n",
    "        scaling_factor += (rotation_hat[i,j]/rotation[i,j])/9\n",
    "translation_hat = translation * scaling_factor\n",
    "print('scaling factor: ' + str(scaling_factor))\n",
    "print(translation_hat)"
   ]
  },
  {
   "cell_type": "markdown",
   "metadata": {},
   "source": [
    "### Check the sing of $\\mathbf{\\tau}_z$"
   ]
  },
  {
   "cell_type": "code",
   "execution_count": 15,
   "metadata": {
    "collapsed": true
   },
   "outputs": [],
   "source": [
    "if translation[2] < 0:\n",
    "    rotation_hat *= -1\n",
    "    translation_hat *= -1"
   ]
  },
  {
   "cell_type": "markdown",
   "metadata": {},
   "source": [
    "### Linear solution for Rotation Matrix $\\hat{\\Omega}$ "
   ]
  },
  {
   "cell_type": "code",
   "execution_count": 16,
   "metadata": {
    "collapsed": false
   },
   "outputs": [
    {
     "name": "stdout",
     "output_type": "stream",
     "text": [
      "[[ 0.9685  0.      0.2491]\n",
      " [-0.      1.     -0.    ]\n",
      " [ 0.2491 -0.     -0.9685]]\n"
     ]
    }
   ],
   "source": [
    "print(rotation_hat)"
   ]
  },
  {
   "cell_type": "markdown",
   "metadata": {},
   "source": [
    "### Linear solution for Translation Matrix $\\hat{\\tau}$"
   ]
  },
  {
   "cell_type": "code",
   "execution_count": 17,
   "metadata": {
    "collapsed": false
   },
   "outputs": [
    {
     "name": "stdout",
     "output_type": "stream",
     "text": [
      "[[-181.7222]\n",
      " [  -0.    ]\n",
      " [ 668.567 ]]\n"
     ]
    }
   ],
   "source": [
    "print(translation_hat)"
   ]
  },
  {
   "cell_type": "markdown",
   "metadata": {},
   "source": [
    "### Attempt to reconstruct $x = [175 ~229]^T$ from $w = [-25 ~ -25 ~200]^T$ using the final linear solution "
   ]
  },
  {
   "cell_type": "code",
   "execution_count": 18,
   "metadata": {
    "collapsed": false
   },
   "outputs": [
    {
     "name": "stdout",
     "output_type": "stream",
     "text": [
      "[[ 189.3808]\n",
      " [ 245.3309]]\n"
     ]
    }
   ],
   "source": [
    "i = 0\n",
    "X_tilde_i = np.dot(camera, np.dot(np.hstack([rotation_hat, translation_hat]), W_tilde[i]))\n",
    "X_i = X_tilde_i / X_tilde_i[2]\n",
    "print X_i[0:2]"
   ]
  },
  {
   "cell_type": "markdown",
   "metadata": {},
   "source": [
    "### Perform non-linear optimization using the found linear solution as initial guess"
   ]
  },
  {
   "cell_type": "code",
   "execution_count": 19,
   "metadata": {
    "collapsed": false
   },
   "outputs": [],
   "source": [
    "objective_function = (lambda phi: least_squares(X_tilde, W_tilde, phi))\n",
    "phi_0 = np.hstack([rotation_hat, translation_hat]).flatten()\n",
    "result = op.minimize(fun=objective_function, x0=phi_0, method='Nelder-Mead')\n",
    "phi = result.x\n",
    "phi = phi.reshape(3,4)"
   ]
  },
  {
   "cell_type": "markdown",
   "metadata": {},
   "source": [
    "### Final Solution for Rotation Matrix $\\Omega$ using Non-Linear Optimization"
   ]
  },
  {
   "cell_type": "code",
   "execution_count": 20,
   "metadata": {
    "collapsed": false
   },
   "outputs": [
    {
     "name": "stdout",
     "output_type": "stream",
     "text": [
      "Rotation Matrix\n",
      "[[ 0.0048  0.      0.    ]\n",
      " [-0.      0.0046 -0.    ]\n",
      " [-0.     -0.     -0.    ]]\n"
     ]
    }
   ],
   "source": [
    "rotation_hat = phi[:,0:3]\n",
    "print('Rotation Matrix')\n",
    "print(phi[:,0:3])"
   ]
  },
  {
   "cell_type": "markdown",
   "metadata": {},
   "source": [
    "### Final Solution for Translation Matrix $\\tau$ using Non-Linear Optimization"
   ]
  },
  {
   "cell_type": "code",
   "execution_count": 21,
   "metadata": {
    "collapsed": false
   },
   "outputs": [
    {
     "name": "stdout",
     "output_type": "stream",
     "text": [
      "Translation Matrix\n",
      "[[-0.2711]\n",
      " [-0.    ]\n",
      " [ 1.    ]]\n"
     ]
    }
   ],
   "source": [
    "translation_hat = phi[:,3:4]\n",
    "print('Translation Matrix')\n",
    "print(phi[:,3:4])"
   ]
  },
  {
   "cell_type": "markdown",
   "metadata": {},
   "source": [
    "### Attempt to reconstruct $x = [175 ~229]^T$ from $w = [-25 ~ -25 ~200]^T$ using the final linear solution "
   ]
  },
  {
   "cell_type": "code",
   "execution_count": 22,
   "metadata": {
    "collapsed": false
   },
   "outputs": [
    {
     "name": "stdout",
     "output_type": "stream",
     "text": [
      "[[ 177.7782]\n",
      " [ 232.7771]]\n"
     ]
    }
   ],
   "source": [
    "i = 0\n",
    "X_tilde_i = np.dot(camera, np.dot(np.hstack([rotation_hat, translation_hat]), W_tilde[i]))\n",
    "X_i = X_tilde_i / X_tilde_i[2]\n",
    "print X_i[0:2]"
   ]
  },
  {
   "cell_type": "markdown",
   "metadata": {},
   "source": [
    "## Part 2: Multi-view triangulation"
   ]
  },
  {
   "cell_type": "markdown",
   "metadata": {},
   "source": [
    "The solution to this problem is to minimize:\n",
    "\n",
    "\\begin{equation}\n",
    "\\mathbf{\\hat{w}} = \\operatorname*{arg\\,min}_{\\mathbf{w}} \\Bigg[ \\sum_{j=1}^{J} (\\mathbf{x}_j - pinhole[w, \\Lambda_j, \\Omega_j, \\tau_j])^T (\\mathbf{x}_j - pinhole[w, \\Lambda_j, \\Omega_j, \\tau_j]) \\Bigg]\n",
    "\\end{equation}"
   ]
  },
  {
   "cell_type": "markdown",
   "metadata": {},
   "source": [
    "### Load camera parameters $\\{\\Lambda_j, \\Omega_j, \\tau_j\\}_{j=1}^{J}$"
   ]
  },
  {
   "cell_type": "code",
   "execution_count": 23,
   "metadata": {
    "collapsed": false
   },
   "outputs": [],
   "source": [
    "J = 3\n",
    "camera = []\n",
    "rotation = []\n",
    "translation = []\n",
    "\n",
    "camera_1 = np.array([[200, 0, 256], \n",
    "                     [0, 200, 256], \n",
    "                     [0, 0, 1]], dtype=np.float64)\n",
    "rotation_1 = np.array([[0.81915, 0.00000, 0.57358], \n",
    "                       [0, 1, 0], \n",
    "                       [-0.57358, 0, 0.81915]],dtype=np.float64)\n",
    "translation_1 = np.array([[-200, 0, 0]], dtype=np.float64).T\n",
    "camera.append(camera_1)\n",
    "rotation.append(rotation_1)\n",
    "translation.append(translation_1)\n",
    "\n",
    "camera_2 = np.array([[200, 0, 256], \n",
    "                     [0, 200, 256], \n",
    "                     [0, 0, 1]], dtype=np.float64)\n",
    "rotation_2 = np.array([[1, 0, -0], \n",
    "                       [0, 1, 0], \n",
    "                       [0, 0, 1]], dtype=np.float64)\n",
    "translation_2 = np.array([[0, 0, 0]], dtype=np.float64).T\n",
    "camera.append(camera_2)\n",
    "rotation.append(rotation_2)\n",
    "translation.append(translation_2)\n",
    "\n",
    "camera_3 = np.array([[200, 0, 256], \n",
    "                     [0, 200, 256], \n",
    "                     [0, 0, 1]], dtype=np.float64)\n",
    "rotation_3 = np.array([[0.81915, 0, -0.57358], \n",
    "                       [0, 1, 0], \n",
    "                       [0.57358 , 0, 0.81915]], dtype=np.float64)\n",
    "translation_3 = np.array([[200, 0, 0]], dtype=np.float64).T\n",
    "camera.append(camera_3)\n",
    "rotation.append(rotation_3)\n",
    "translation.append(translation_3)"
   ]
  },
  {
   "cell_type": "markdown",
   "metadata": {},
   "source": [
    "### Calculationg the inverse of the camera matrix $\\Lambda_j^{-1}$"
   ]
  },
  {
   "cell_type": "code",
   "execution_count": 24,
   "metadata": {
    "collapsed": true
   },
   "outputs": [],
   "source": [
    "camera_inv = []\n",
    "for j in range(J):\n",
    "    camera_inv.append(np.linalg.inv(camera[j]))"
   ]
  },
  {
   "cell_type": "markdown",
   "metadata": {},
   "source": [
    "### Load image points $\\{ x_j \\}_{j=1}^J$"
   ]
  },
  {
   "cell_type": "code",
   "execution_count": 25,
   "metadata": {
    "collapsed": false
   },
   "outputs": [],
   "source": [
    "X = []\n",
    "X_tilde = []\n",
    "for j in range(J):\n",
    "    X_j = None \n",
    "    X_tilde_j = None\n",
    "    with open('multiview/camera' + str(j+1) + '_pts.txt') as f:\n",
    "        X_j = f.readlines()\n",
    "        X_j = [np.array(p.split(' ')) for p in X_j]\n",
    "        X_j = [p[p != ''] for p in X_j]\n",
    "        X_j = np.array([p.reshape(2,1) for p in X_j], dtype=np.float64)\n",
    "        X_tilde_j = np.array([np.vstack([xi, 1]) for xi in X_j])\n",
    "        X.append(X_j)\n",
    "        X_tilde.append(X_tilde_j)\n",
    "\n",
    "I = len(X[0])"
   ]
  },
  {
   "cell_type": "markdown",
   "metadata": {},
   "source": [
    "### Convert to normalized camera coordinates\n",
    "\\begin{equation}\n",
    "x_j^{'} = \\Lambda_j^{-1} [x_j,y_j,1]^T\n",
    "\\end{equation}"
   ]
  },
  {
   "cell_type": "code",
   "execution_count": 26,
   "metadata": {
    "collapsed": false
   },
   "outputs": [],
   "source": [
    "X_prime = []\n",
    "for j in range(J):\n",
    "    X_prime_j = [np.dot(camera_inv[j], X_tilde[j][i]) for i in range(I)]\n",
    "    X_prime.append(X_prime_j)"
   ]
  },
  {
   "cell_type": "markdown",
   "metadata": {},
   "source": [
    "### Compute linear constraints"
   ]
  },
  {
   "cell_type": "code",
   "execution_count": 27,
   "metadata": {
    "collapsed": false
   },
   "outputs": [],
   "source": [
    "W = []\n",
    "A = []\n",
    "b = []\n",
    "for i in range(I):\n",
    "    A_i = np.zeros((2*J,3))\n",
    "    b_i = np.zeros((2*J,1))\n",
    "    for j in range(J):\n",
    "        w_j = rotation[j]\n",
    "        t_j = translation[j]\n",
    "        x_prime_j = X_prime[j][i][0]\n",
    "        y_prime_j = X_prime[j][i][1]\n",
    "        A_i[2*j] = [w_j[2,0]*x_prime_j - w_j[0,0], \n",
    "                    w_j[2,1]*x_prime_j - w_j[0,1], \n",
    "                    w_j[2,2]*x_prime_j - w_j[0,2]]\n",
    "        A_i[2*j + 1] = [w_j[2,0]*y_prime_j - w_j[1,0], \n",
    "                        w_j[2,1]*y_prime_j - w_j[1,1] , \n",
    "                        w_j[2,2]*y_prime_j - w_j[1,2]]\n",
    "        b_i[2*j] = [t_j[0] - t_j[2]*x_prime_j]\n",
    "        b_i[2*j+ 1] = [t_j[1] - t_j[2]*y_prime_j]\n",
    "    w_i = np.linalg.lstsq(A_i, b_i)[0]\n",
    "    W.append(w_i)\n",
    "    A.append(A_i)\n",
    "    b.append(b_i)"
   ]
  },
  {
   "cell_type": "code",
   "execution_count": 33,
   "metadata": {
    "collapsed": false
   },
   "outputs": [
    {
     "data": {
      "text/plain": [
       "array([[-0.4787, -0.    , -1.0598],\n",
       "       [ 0.0805, -1.    , -0.1149],\n",
       "       [-1.    , -0.    , -0.125 ],\n",
       "       [-0.    , -1.    , -0.125 ],\n",
       "       [-0.5705,  0.    ,  0.9287],\n",
       "       [-0.0959, -1.    , -0.137 ]])"
      ]
     },
     "execution_count": 33,
     "metadata": {},
     "output_type": "execute_result"
    }
   ],
   "source": [
    "A[0]"
   ]
  },
  {
   "cell_type": "markdown",
   "metadata": {},
   "source": [
    "### Attempt to reconstruct  $w = [-25 ~ -25 ~200]^T$ from $x = [175 ~229]^T$ using the final linear solution "
   ]
  },
  {
   "cell_type": "code",
   "execution_count": 28,
   "metadata": {
    "collapsed": false,
    "scrolled": true
   },
   "outputs": [
    {
     "data": {
      "text/plain": [
       "array([[ -25.    ],\n",
       "       [ -24.9999],\n",
       "       [ 199.9995]])"
      ]
     },
     "execution_count": 28,
     "metadata": {},
     "output_type": "execute_result"
    }
   ],
   "source": [
    "W[0]"
   ]
  },
  {
   "cell_type": "code",
   "execution_count": 29,
   "metadata": {
    "collapsed": false
   },
   "outputs": [],
   "source": [
    "def least_squares(X_i, W_i, camera, rotation, translation):\n",
    "    L = 0\n",
    "    wj = np.vstack([W[0],1]).reshape(4,1)\n",
    "    for j in range(J):\n",
    "        xj = np.vstack([X_i[j], 1])\n",
    "        camera_j = camera[j]\n",
    "        rotation_j = rotation[j]\n",
    "        translation_j = translation[j]\n",
    "        first_term = (xj - pinhole(wj, camera_j, rotation_j, translation_j)).T\n",
    "        second_term = (xj - pinhole(wj, camera_j, rotation_j, translation_j))\n",
    "        L += np.dot(first_term, second_term)\n",
    "    return L"
   ]
  },
  {
   "cell_type": "code",
   "execution_count": 30,
   "metadata": {
    "collapsed": false
   },
   "outputs": [],
   "source": [
    "W_non_linear = []\n",
    "for i in range(I):\n",
    "    X_i = np.array([X[0][i], X[1][i], X[2][i]]) \n",
    "    W_i = W[i]\n",
    "    objective_function = (lambda W_i: least_squares(X_i, W_i, camera, rotation, translation))\n",
    "    phi_0 = W_i.flatten()\n",
    "    result = op.minimize(fun=objective_function, x0=phi_0, method='Nelder-Mead')\n",
    "    phi = result.x\n",
    "    W_non_linear.append(phi.reshape(3,1))"
   ]
  },
  {
   "cell_type": "markdown",
   "metadata": {},
   "source": [
    "### Attempt to reconstruct  $w = [-25 ~ -25 ~200]^T$ from $x = [175 ~229]^T$ using the final linear solution "
   ]
  },
  {
   "cell_type": "code",
   "execution_count": 31,
   "metadata": {
    "collapsed": false
   },
   "outputs": [
    {
     "data": {
      "text/plain": [
       "array([[ -25.    ],\n",
       "       [ -24.9999],\n",
       "       [ 199.9995]])"
      ]
     },
     "execution_count": 31,
     "metadata": {},
     "output_type": "execute_result"
    }
   ],
   "source": [
    "W_non_linear[0]"
   ]
  },
  {
   "cell_type": "markdown",
   "metadata": {},
   "source": [
    "## References \n",
    "[1] Prince, S. J. D. (2012). Computer Vision: Models Learning and Inference. Cambridge University Press."
   ]
  },
  {
   "cell_type": "code",
   "execution_count": null,
   "metadata": {
    "collapsed": true
   },
   "outputs": [],
   "source": []
  }
 ],
 "metadata": {
  "kernelspec": {
   "display_name": "Python 2",
   "language": "python",
   "name": "python2"
  },
  "language_info": {
   "codemirror_mode": {
    "name": "ipython",
    "version": 2
   },
   "file_extension": ".py",
   "mimetype": "text/x-python",
   "name": "python",
   "nbconvert_exporter": "python",
   "pygments_lexer": "ipython2",
   "version": "2.7.10"
  }
 },
 "nbformat": 4,
 "nbformat_minor": 0
}
